{
 "cells": [
  {
   "cell_type": "code",
   "execution_count": 1,
   "id": "191c30ef",
   "metadata": {},
   "outputs": [
    {
     "name": "stdout",
     "output_type": "stream",
     "text": [
      "factorial of 7 is 5040\n"
     ]
    }
   ],
   "source": [
    "num=7\n",
    "factorial=1\n",
    "if num<0:\n",
    "    print(\"No factorial\")\n",
    "elif num==0:\n",
    "    print(\"Factorial==1\")\n",
    "else:\n",
    "    for i in range(1,num+1):\n",
    "        factorial=factorial*i\n",
    "print(\"factorial of\",num,\"is\",factorial)\n",
    "        "
   ]
  },
  {
   "cell_type": "code",
   "execution_count": 2,
   "id": "35d0c680",
   "metadata": {},
   "outputs": [
    {
     "name": "stdout",
     "output_type": "stream",
     "text": [
      "Enter number 53\n",
      "53 prime number\n"
     ]
    }
   ],
   "source": [
    "number=int(input(\"Enter number \"))\n",
    "if (number==0 or number==1):\n",
    "    print(number,\"neither prime nor composite\")\n",
    "elif number>1:\n",
    "    for i in range(2,number):\n",
    "        if (number%i==0):\n",
    "            print(number, \"is composite\")\n",
    "            break    \n",
    "    else:\n",
    "        print(number,\"prime number\")"
   ]
  },
  {
   "cell_type": "code",
   "execution_count": 4,
   "id": "5c9f8adf",
   "metadata": {},
   "outputs": [
    {
     "name": "stdout",
     "output_type": "stream",
     "text": [
      "String is plaindrome\n"
     ]
    }
   ],
   "source": [
    "my_str=\"mom\"\n",
    "rev_str=reversed(my_str)\n",
    "if list(my_str)==list(rev_str):\n",
    "    print(\"String is plaindrome\")\n",
    "else:\n",
    "    print(\"not a plaindrome\")"
   ]
  },
  {
   "cell_type": "code",
   "execution_count": 6,
   "id": "38cff95f",
   "metadata": {},
   "outputs": [],
   "source": [
    "import numpy as np"
   ]
  },
  {
   "cell_type": "code",
   "execution_count": 7,
   "id": "df784599",
   "metadata": {},
   "outputs": [
    {
     "name": "stdout",
     "output_type": "stream",
     "text": [
      "enter perpendicular4\n",
      "enter base3\n"
     ]
    }
   ],
   "source": [
    "a=int(input(\"enter perpendicular\"))\n",
    "b=int(input(\"enter base\"))\n",
    "c=np.sqrt(a*a+b*b)"
   ]
  },
  {
   "cell_type": "code",
   "execution_count": 8,
   "id": "e75a041e",
   "metadata": {},
   "outputs": [
    {
     "data": {
      "text/plain": [
       "5.0"
      ]
     },
     "execution_count": 8,
     "metadata": {},
     "output_type": "execute_result"
    }
   ],
   "source": [
    "c"
   ]
  },
  {
   "cell_type": "code",
   "execution_count": 9,
   "id": "b6219b34",
   "metadata": {},
   "outputs": [
    {
     "name": "stdout",
     "output_type": "stream",
     "text": [
      "enter name : thank you data trained\n",
      "enter character: t\n",
      "3\n"
     ]
    }
   ],
   "source": [
    "string=input(\"enter name : \")\n",
    "char=input(\"enter character: \")\n",
    "count=0\n",
    "for i in string:\n",
    "    if i==char:\n",
    "        count=count+1\n",
    "print(count)\n"
   ]
  },
  {
   "cell_type": "code",
   "execution_count": null,
   "id": "f8780a33",
   "metadata": {},
   "outputs": [],
   "source": []
  }
 ],
 "metadata": {
  "kernelspec": {
   "display_name": "Python 3 (ipykernel)",
   "language": "python",
   "name": "python3"
  },
  "language_info": {
   "codemirror_mode": {
    "name": "ipython",
    "version": 3
   },
   "file_extension": ".py",
   "mimetype": "text/x-python",
   "name": "python",
   "nbconvert_exporter": "python",
   "pygments_lexer": "ipython3",
   "version": "3.9.7"
  }
 },
 "nbformat": 4,
 "nbformat_minor": 5
}
